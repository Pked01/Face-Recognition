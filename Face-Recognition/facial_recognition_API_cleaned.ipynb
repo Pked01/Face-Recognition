{
 "cells": [
  {
   "cell_type": "markdown",
   "metadata": {},
   "source": [
    "# Facial Recognition\n",
    "\n",
    "### Facial recognition a well known term among tech enthusiast, It has been widely used as a tool to recognise persons and to differentiate them with respect to their facial attributes.\n",
    "\n",
    "- Tested on python-3\n",
    "- Package required:\n",
    "    1. dlib,opencv\n",
    "    2. sklearn,pandas_ml\n",
    "    3. pandas, numpy\n",
    "    4. tmdbsimple, pytvdbapi"
   ]
  },
  {
   "cell_type": "markdown",
   "metadata": {},
   "source": [
    "- import API"
   ]
  },
  {
   "cell_type": "code",
   "execution_count": 1,
   "metadata": {
    "ExecuteTime": {
     "end_time": "2018-07-14T15:05:47.770969Z",
     "start_time": "2018-07-14T15:05:47.124256Z"
    }
   },
   "outputs": [],
   "source": [
    "from Face_recog_API import *"
   ]
  },
  {
   "cell_type": "markdown",
   "metadata": {},
   "source": [
    "- Data collection "
   ]
  },
  {
   "cell_type": "code",
   "execution_count": 2,
   "metadata": {
    "ExecuteTime": {
     "end_time": "2018-07-14T15:05:50.058780Z",
     "start_time": "2018-07-14T15:05:48.737643Z"
    }
   },
   "outputs": [
    {
     "name": "stdout",
     "output_type": "stream",
     "text": [
      "loading models\n",
      "['Matthew McConaughey', 'Woody Harrelson', 'Rachel McAdams', 'Kelly Reilly', 'Vince Vaughn', 'Taylor Kitsch', 'Colin Farrell', 'Michelle Monaghan', 'Kevin Dunn', 'Michael Potts', 'Tory Kittles', 'Alexandra Daddario']\n"
     ]
    }
   ],
   "source": [
    "tv_series_name = 'True Detective'\n",
    "\n",
    "face_rec = FacialRecognition(data_path=tv_series_name,face_detector_type='hog')\n",
    "\n",
    "cast_list = face_rec.get_cast_name_tvdb(tv_series_name)\n",
    "print(cast_list)"
   ]
  },
  {
   "cell_type": "markdown",
   "metadata": {},
   "source": [
    "- Data collection"
   ]
  },
  {
   "cell_type": "code",
   "execution_count": 4,
   "metadata": {
    "ExecuteTime": {
     "end_time": "2018-07-14T14:43:01.390805Z",
     "start_time": "2018-07-14T14:42:53.603592Z"
    }
   },
   "outputs": [
    {
     "name": "stdout",
     "output_type": "stream",
     "text": [
      "Folder contains files --Matthew McConaughey--  you want to continue(y/n)n\n",
      "Folder contains files --Woody Harrelson--  you want to continue(y/n)n\n",
      "Folder contains files --Rachel McAdams--  you want to continue(y/n)n\n",
      "Folder contains files --Kelly Reilly--  you want to continue(y/n)n\n",
      "Folder contains files --Vince Vaughn--  you want to continue(y/n)n\n",
      "Folder contains files --Taylor Kitsch--  you want to continue(y/n)n\n",
      "Folder contains files --Colin Farrell--  you want to continue(y/n)n\n",
      "Folder contains files --Michelle Monaghan--  you want to continue(y/n)n\n",
      "Folder contains files --Kevin Dunn--  you want to continue(y/n)n\n",
      "Folder contains files --Michael Potts--  you want to continue(y/n)n\n",
      "Folder contains files --Tory Kittles--  you want to continue(y/n)n\n",
      "Folder contains files --Alexandra Daddario--  you want to continue(y/n)n\n"
     ]
    }
   ],
   "source": [
    "face_rec.downloaded_images(cast_list)"
   ]
  },
  {
   "cell_type": "markdown",
   "metadata": {},
   "source": [
    "- Data Preparation"
   ]
  },
  {
   "cell_type": "code",
   "execution_count": 5,
   "metadata": {
    "ExecuteTime": {
     "end_time": "2018-07-14T15:08:06.255130Z",
     "start_time": "2018-07-14T15:08:06.246232Z"
    }
   },
   "outputs": [],
   "source": [
    "[X,y]=face_rec.prepare_data()"
   ]
  },
  {
   "cell_type": "markdown",
   "metadata": {},
   "source": [
    "- Training Model"
   ]
  },
  {
   "cell_type": "code",
   "execution_count": 6,
   "metadata": {
    "ExecuteTime": {
     "end_time": "2018-07-14T15:08:10.038384Z",
     "start_time": "2018-07-14T15:08:09.875804Z"
    },
    "scrolled": true
   },
   "outputs": [
    {
     "name": "stdout",
     "output_type": "stream",
     "text": [
      "entering training module\n",
      "StratifiedShuffleSplit(n_splits=10, random_state=0, test_size=0.2,\n",
      "            train_size=None)\n",
      "inside preprocessing function\n",
      "returning from preprocess data\n",
      "classes must be passed on the first call to partial_fit.\n",
      "accuracy in iteration  1  is = 0.910958904109589\n",
      "returning from train module\n"
     ]
    },
    {
     "name": "stderr",
     "output_type": "stream",
     "text": [
      "/home/prateek/.virtualenvs/cv3/lib/python3.5/site-packages/sklearn/linear_model/stochastic_gradient.py:117: DeprecationWarning: n_iter parameter is deprecated in 0.19 and will be removed in 0.21. Use max_iter and tol instead.\n",
      "  DeprecationWarning)\n",
      "/home/prateek/.virtualenvs/cv3/lib/python3.5/site-packages/sklearn/linear_model/stochastic_gradient.py:117: DeprecationWarning: n_iter parameter is deprecated in 0.19 and will be removed in 0.21. Use max_iter and tol instead.\n",
      "  DeprecationWarning)\n"
     ]
    }
   ],
   "source": [
    "face_rec.partial_train_model(X,y,minm_image_process=30,threshold_accuracy=.9,classes=range(1,len(cast_list)+1))"
   ]
  },
  {
   "cell_type": "markdown",
   "metadata": {},
   "source": [
    "-Viewing output"
   ]
  },
  {
   "cell_type": "code",
   "execution_count": 3,
   "metadata": {
    "ExecuteTime": {
     "end_time": "2018-07-14T15:06:35.092575Z",
     "start_time": "2018-07-14T15:06:05.454943Z"
    }
   },
   "outputs": [],
   "source": [
    "cap = cv2.VideoCapture('True Detective Season 1 - Woody Harrelson & Matthew McConaughey\\'s Fight Scene (HBO) --VvkSTRVaOCs.mp4')\n",
    "while cap.isOpened():\n",
    "    Disp.clear_output(wait=True)\n",
    "    ret,frame = cap.read()\n",
    "    op = face_rec.get_pred_on_frame(frame.copy())\n",
    "    cv2.imshow(\"preview\",op)\n",
    "    k = cv2.waitKey(1)\n",
    "    if k==27:\n",
    "        break\n",
    "cv2.destroyAllWindows()\n",
    "cap.release()\n",
    "    "
   ]
  }
 ],
 "metadata": {
  "_draft": {
   "nbviewer_url": "https://gist.github.com/a5ec0abe4807aeaa9d463b5772dad9dd"
  },
  "gist": {
   "data": {
    "description": "personal/Face recognition/facial_recognition_API_cleaned.ipynb",
    "public": true
   },
   "id": "a5ec0abe4807aeaa9d463b5772dad9dd"
  },
  "hide_input": false,
  "kernelspec": {
   "display_name": "cv3 (python3)",
   "language": "python",
   "name": "cv3"
  },
  "language_info": {
   "codemirror_mode": {
    "name": "ipython",
    "version": 3
   },
   "file_extension": ".py",
   "mimetype": "text/x-python",
   "name": "python",
   "nbconvert_exporter": "python",
   "pygments_lexer": "ipython3",
   "version": "3.5.2"
  }
 },
 "nbformat": 4,
 "nbformat_minor": 2
}
